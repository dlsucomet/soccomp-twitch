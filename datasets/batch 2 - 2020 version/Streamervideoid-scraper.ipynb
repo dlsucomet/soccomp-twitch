{
 "cells": [
  {
   "cell_type": "code",
   "execution_count": 3,
   "metadata": {},
   "outputs": [],
   "source": [
    "import requests,json,sys,xlwt\n",
    "from xlwt import Workbook"
   ]
  },
  {
   "cell_type": "code",
   "execution_count": 4,
   "metadata": {},
   "outputs": [],
   "source": [
    "BASE_URL='https://api.twitch.tv/helix/'\n",
    "CLIENT_ID='a1rgcvr29fifu76c6sukv4tva42gd1'\n",
    "HEADERS={'Client-ID':CLIENT_ID}\n",
    "INDENT=2"
   ]
  },
  {
   "cell_type": "code",
   "execution_count": 5,
   "metadata": {},
   "outputs": [],
   "source": [
    "#get response from twitch api call\n",
    "def get_response(query):\n",
    "    url=BASE_URL+query\n",
    "    response=requests.get(url,headers=HEADERS)\n",
    "    return response"
   ]
  },
  {
   "cell_type": "code",
   "execution_count": 6,
   "metadata": {},
   "outputs": [],
   "source": [
    "#prints the response\n",
    "def print_response(response):\n",
    "    response_json=response.json()\n",
    "    print_response=json.dumps(response_json,indent=INDENT)\n",
    "    return print_response"
   ]
  },
  {
   "cell_type": "code",
   "execution_count": 7,
   "metadata": {},
   "outputs": [],
   "source": [
    "def get_user_query(user_login):\n",
    "    return 'users?login={0}'.format(user_login)"
   ]
  },
  {
   "cell_type": "code",
   "execution_count": 8,
   "metadata": {},
   "outputs": [],
   "source": [
    "def get_user_streams_query(user_login):\n",
    "    return 'streams?user_login{0}'.format(user_login) "
   ]
  },
  {
   "cell_type": "code",
   "execution_count": 9,
   "metadata": {},
   "outputs": [],
   "source": [
    "def get_first(user_id):\n",
    "    return 'videos?user_id={0}&first=100&sort=views'.format(user_id)"
   ]
  },
  {
   "cell_type": "code",
   "execution_count": 10,
   "metadata": {},
   "outputs": [],
   "source": [
    "def get_ninehundred(user_id,cursor):\n",
    "    return 'videos?user_id={0}&after={1}&sort=views&first=100'.format(user_id,cursor)"
   ]
  },
  {
   "cell_type": "code",
   "execution_count": 11,
   "metadata": {},
   "outputs": [],
   "source": [
    "def get_streamer_id(response):\n",
    "    y=response\n",
    "    x=json.loads(y)\n",
    "    streamerdata=x['data'][0]['id']\n",
    "    return streamerdata"
   ]
  },
  {
   "cell_type": "code",
   "execution_count": 12,
   "metadata": {},
   "outputs": [],
   "source": [
    "def get_video_ids(response):\n",
    "    y=response\n",
    "    x=json.loads(y)\n",
    "    listofids=[]\n",
    "    for item in x['data']:\n",
    "        listofids.append(item['id'])\n",
    "    return listofids"
   ]
  },
  {
   "cell_type": "code",
   "execution_count": 13,
   "metadata": {},
   "outputs": [],
   "source": [
    "def get_pagination(response):\n",
    "    y=response\n",
    "    x=json.loads(y)\n",
    "    data=x['pagination']\n",
    "    cursor=data['cursor']\n",
    "    return cursor"
   ]
  },
  {
   "cell_type": "code",
   "execution_count": 23,
   "metadata": {},
   "outputs": [],
   "source": [
    "def writedata(data):\n",
    "    wb=Workbook()\n",
    "    i=0\n",
    "    sheet1=wb.add_sheet('LIRIK')\n",
    "    for ids in listofids:\n",
    "        sheet1.write(i,1,listofids[i])\n",
    "        i+=1\n",
    "    wb.save('datanameids.xls')"
   ]
  },
  {
   "cell_type": "code",
   "execution_count": 15,
   "metadata": {},
   "outputs": [],
   "source": [
    "user_login='LIRIK'\n",
    "query=get_user_query(user_login)\n",
    "response=get_response(query)\n",
    "streamerresponse=print_response(response)\n",
    "streamerid=get_streamer_id(streamerresponse)"
   ]
  },
  {
   "cell_type": "code",
   "execution_count": 16,
   "metadata": {
    "scrolled": true
   },
   "outputs": [
    {
     "name": "stdout",
     "output_type": "stream",
     "text": [
      "videos?user_id=23161357&first=100&sort=views\n",
      "eyJiIjpudWxsLCJhIjp7Ik9mZnNldCI6MTAwfX0\n"
     ]
    }
   ],
   "source": [
    "query=get_first(streamerid)\n",
    "print(query)\n",
    "response=get_response(query)\n",
    "listofids=[]\n",
    "videoresponse=print_response(response)\n",
    "cursor=get_pagination(videoresponse)\n",
    "listofids+=get_video_ids(videoresponse)\n",
    "print(cursor)\n"
   ]
  },
  {
   "cell_type": "code",
   "execution_count": 17,
   "metadata": {},
   "outputs": [
    {
     "data": {
      "text/plain": [
       "100"
      ]
     },
     "execution_count": 17,
     "metadata": {},
     "output_type": "execute_result"
    }
   ],
   "source": [
    "len(listofids)"
   ]
  },
  {
   "cell_type": "code",
   "execution_count": 21,
   "metadata": {
    "scrolled": true
   },
   "outputs": [
    {
     "name": "stdout",
     "output_type": "stream",
     "text": [
      "videos?user_id=23161357&after=eyJiIjp7Ik9mZnNldCI6MjAwfSwiYSI6eyJPZmZzZXQiOjQwMH19&sort=views&first=100\n"
     ]
    },
    {
     "data": {
      "text/plain": [
       "500"
      ]
     },
     "execution_count": 21,
     "metadata": {},
     "output_type": "execute_result"
    }
   ],
   "source": [
    "###Run this block of code until you get 1000 videos or all the videos\n",
    "query=get_ninehundred(streamerid,cursor)\n",
    "print(query)\n",
    "response=get_response(query)\n",
    "videoresponse=print_response(response)\n",
    "cursor=get_pagination(videoresponse)\n",
    "listofids+=get_video_ids(videoresponse)\n",
    "\n",
    "len(listofids)"
   ]
  },
  {
   "cell_type": "code",
   "execution_count": 24,
   "metadata": {},
   "outputs": [],
   "source": [
    "writedata(listofids)"
   ]
  },
  {
   "cell_type": "code",
   "execution_count": null,
   "metadata": {},
   "outputs": [],
   "source": []
  },
  {
   "cell_type": "code",
   "execution_count": null,
   "metadata": {},
   "outputs": [],
   "source": []
  },
  {
   "cell_type": "code",
   "execution_count": null,
   "metadata": {},
   "outputs": [],
   "source": []
  },
  {
   "cell_type": "code",
   "execution_count": null,
   "metadata": {},
   "outputs": [],
   "source": []
  },
  {
   "cell_type": "code",
   "execution_count": null,
   "metadata": {},
   "outputs": [],
   "source": []
  },
  {
   "cell_type": "code",
   "execution_count": null,
   "metadata": {},
   "outputs": [],
   "source": []
  },
  {
   "cell_type": "code",
   "execution_count": null,
   "metadata": {},
   "outputs": [],
   "source": []
  }
 ],
 "metadata": {
  "kernelspec": {
   "display_name": "Python 3",
   "language": "python",
   "name": "python3"
  },
  "language_info": {
   "codemirror_mode": {
    "name": "ipython",
    "version": 3
   },
   "file_extension": ".py",
   "mimetype": "text/x-python",
   "name": "python",
   "nbconvert_exporter": "python",
   "pygments_lexer": "ipython3",
   "version": "3.7.2"
  }
 },
 "nbformat": 4,
 "nbformat_minor": 2
}
